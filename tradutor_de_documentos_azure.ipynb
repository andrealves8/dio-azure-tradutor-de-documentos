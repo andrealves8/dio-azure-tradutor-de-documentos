{
  "nbformat": 4,
  "nbformat_minor": 0,
  "metadata": {
    "colab": {
      "provenance": [],
      "authorship_tag": "ABX9TyME5mJ1EU2C5aGs7JnWaEnR",
      "include_colab_link": true
    },
    "kernelspec": {
      "name": "python3",
      "display_name": "Python 3"
    },
    "language_info": {
      "name": "python"
    }
  },
  "cells": [
    {
      "cell_type": "markdown",
      "metadata": {
        "id": "view-in-github",
        "colab_type": "text"
      },
      "source": [
        "<a href=\"https://colab.research.google.com/github/andrealves8/dio-azure-tradutor-de-documentos/blob/master/tradutor_de_documentos_azure.ipynb\" target=\"_parent\"><img src=\"https://colab.research.google.com/assets/colab-badge.svg\" alt=\"Open In Colab\"/></a>"
      ]
    },
    {
      "cell_type": "code",
      "execution_count": null,
      "metadata": {
        "colab": {
          "base_uri": "https://localhost:8080/"
        },
        "id": "4w0oE96k0WOa",
        "outputId": "f492eb77-ecdc-4527-f2f8-7afbe984a73f"
      },
      "outputs": [
        {
          "output_type": "stream",
          "name": "stdout",
          "text": [
            "Requirement already satisfied: requests in /usr/local/lib/python3.10/dist-packages (2.32.3)\n",
            "Collecting python-docx\n",
            "  Downloading python_docx-1.1.2-py3-none-any.whl.metadata (2.0 kB)\n",
            "Requirement already satisfied: charset-normalizer<4,>=2 in /usr/local/lib/python3.10/dist-packages (from requests) (3.4.0)\n",
            "Requirement already satisfied: idna<4,>=2.5 in /usr/local/lib/python3.10/dist-packages (from requests) (3.10)\n",
            "Requirement already satisfied: urllib3<3,>=1.21.1 in /usr/local/lib/python3.10/dist-packages (from requests) (2.2.3)\n",
            "Requirement already satisfied: certifi>=2017.4.17 in /usr/local/lib/python3.10/dist-packages (from requests) (2024.8.30)\n",
            "Requirement already satisfied: lxml>=3.1.0 in /usr/local/lib/python3.10/dist-packages (from python-docx) (5.3.0)\n",
            "Requirement already satisfied: typing-extensions>=4.9.0 in /usr/local/lib/python3.10/dist-packages (from python-docx) (4.12.2)\n",
            "Downloading python_docx-1.1.2-py3-none-any.whl (244 kB)\n",
            "\u001b[2K   \u001b[90m━━━━━━━━━━━━━━━━━━━━━━━━━━━━━━━━━━━━━━━━\u001b[0m \u001b[32m244.3/244.3 kB\u001b[0m \u001b[31m4.8 MB/s\u001b[0m eta \u001b[36m0:00:00\u001b[0m\n",
            "\u001b[?25hInstalling collected packages: python-docx\n",
            "Successfully installed python-docx-1.1.2\n"
          ]
        }
      ],
      "source": [
        "!pip install requests python-docx"
      ]
    },
    {
      "cell_type": "code",
      "source": [
        "import requests\n",
        "from docx import Document\n",
        "import os\n",
        "\n",
        "subscription_key = \"CA21duUS82Xchvv87qWGRe96NhB3wvs7QxPqkJhM7BuyleQquYdpJQQJ99AKACHYHv6XJ3w3AAAbACOGulRT\"\n",
        "endpoint = \"https://api.cognitive.microsofttranslator.com/\"\n",
        "location = \"eastus2\"\n",
        "language_destination = \"pt-br\"\n",
        "\n",
        "def translator_text(text, target_language):\n",
        "  path = '/translate'\n",
        "  constructed_url = endpoint + path\n",
        "  headers = {\n",
        "      'Ocp-Apim-Subscription-Key' : subscription_key,\n",
        "      'Ocp-Apim-Subscription-Region' : location,\n",
        "      'Content-type' : 'application/json',\n",
        "      'X-ClientTraceId' : str(os.urandom(16))\n",
        "  }\n",
        "\n",
        "  body = [{\n",
        "      'text' : text\n",
        "  }]\n",
        "  params = {\n",
        "      'api-version' : '3.0',\n",
        "      'from' : 'en',\n",
        "      'to' : target_language\n",
        "  }\n",
        "  request = requests.post(constructed_url, params=params, headers=headers, json=body)\n",
        "  response = request.json()\n",
        "  return response[0][\"translations\"][0][\"text\"]"
      ],
      "metadata": {
        "id": "Yl-ILd3i08X6"
      },
      "execution_count": null,
      "outputs": []
    },
    {
      "cell_type": "code",
      "source": [
        "translator_text(\"Same bed, but it feels just a little bit bigger now\", language_destination)"
      ],
      "metadata": {
        "colab": {
          "base_uri": "https://localhost:8080/",
          "height": 35
        },
        "id": "1n1KXhlt6TmT",
        "outputId": "dd6c059f-9e46-4166-ca59-99a60a80457b"
      },
      "execution_count": null,
      "outputs": [
        {
          "output_type": "execute_result",
          "data": {
            "text/plain": [
              "'Mesma cama, mas parece um pouco maior agora'"
            ],
            "application/vnd.google.colaboratory.intrinsic+json": {
              "type": "string"
            }
          },
          "metadata": {},
          "execution_count": 7
        }
      ]
    },
    {
      "cell_type": "code",
      "source": [
        "def translate_document(path):\n",
        "  document = Document(path)\n",
        "  full_text = []\n",
        "  for paragraph in document.paragraphs:\n",
        "    translated_text = translator_text(paragraph.text, language_destination)\n",
        "    full_text.append(translated_text)\n",
        "\n",
        "    translated_doc = Document()\n",
        "    for line in full_text:\n",
        "      print(line)\n",
        "      translated_doc.add_paragraph(line)\n",
        "    path_translated = path.replace(\".docx\", f\"_{language_destination}.docx\")\n",
        "    translated_doc.save(path_translated)\n",
        "    return path_translated"
      ],
      "metadata": {
        "id": "o3Fx7LdCLmae"
      },
      "execution_count": null,
      "outputs": []
    },
    {
      "cell_type": "code",
      "source": [
        "input_file = \"/content/music.docx\"\n",
        "translate_document(input_file)"
      ],
      "metadata": {
        "colab": {
          "base_uri": "https://localhost:8080/",
          "height": 105
        },
        "id": "zAsjMHWVPMZl",
        "outputId": "0f4e7854-bfb1-4bd4-a7e3-c4525fd83092"
      },
      "execution_count": null,
      "outputs": [
        {
          "output_type": "stream",
          "name": "stdout",
          "text": [
            "Há um lugar em seu coração\n",
            "E eu sei que é amor\n",
            "E este lugar poderia ser\n",
            "Muito mais brilhante do que amanhã\n"
          ]
        },
        {
          "output_type": "execute_result",
          "data": {
            "text/plain": [
              "'/content/music_pt-br.docx'"
            ],
            "application/vnd.google.colaboratory.intrinsic+json": {
              "type": "string"
            }
          },
          "metadata": {},
          "execution_count": 10
        }
      ]
    }
  ]
}